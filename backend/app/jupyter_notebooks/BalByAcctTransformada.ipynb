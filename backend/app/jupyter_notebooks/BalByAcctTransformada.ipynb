{
 "cells": [
  {
   "cell_type": "code",
   "execution_count": 1,
   "metadata": {},
   "outputs": [],
   "source": [
    "import pandas as pd"
   ]
  },
  {
   "cell_type": "code",
   "execution_count": 2,
   "metadata": {},
   "outputs": [],
   "source": [
    "pd.options.display.max_columns = 500\n",
    "pd.options.display.max_rows = 10000"
   ]
  },
  {
   "cell_type": "code",
   "execution_count": 3,
   "metadata": {},
   "outputs": [],
   "source": [
    "bbat = pd.read_csv('../vol/web/media/insumos/automatic/BalByAcctTransformada.txt', sep='\t', low_memory=False)"
   ]
  },
  {
   "cell_type": "code",
   "execution_count": 4,
   "metadata": {},
   "outputs": [
    {
     "data": {
      "text/html": [
       "<div>\n",
       "<style scoped>\n",
       "    .dataframe tbody tr th:only-of-type {\n",
       "        vertical-align: middle;\n",
       "    }\n",
       "\n",
       "    .dataframe tbody tr th {\n",
       "        vertical-align: top;\n",
       "    }\n",
       "\n",
       "    .dataframe thead th {\n",
       "        text-align: right;\n",
       "    }\n",
       "</style>\n",
       "<table border=\"1\" class=\"dataframe\">\n",
       "  <thead>\n",
       "    <tr style=\"text-align: right;\">\n",
       "      <th></th>\n",
       "      <th>Acct</th>\n",
       "      <th>SaldoRendXcobrar</th>\n",
       "      <th>SaldoRendXcobrarVenc</th>\n",
       "      <th>SaldoRendCuentaOrden</th>\n",
       "      <th>SaldoRendXMora</th>\n",
       "      <th>ProvisionREND</th>\n",
       "      <th>Saldo_Provision_REND</th>\n",
       "    </tr>\n",
       "  </thead>\n",
       "  <tbody>\n",
       "    <tr>\n",
       "      <th>0</th>\n",
       "      <td>5197230000000377</td>\n",
       "      <td>Bs.S15731.25</td>\n",
       "      <td>Bs.S0.00</td>\n",
       "      <td>Bs.S0.00</td>\n",
       "      <td>Bs.S0.00</td>\n",
       "      <td>0.0</td>\n",
       "      <td>0.0</td>\n",
       "    </tr>\n",
       "    <tr>\n",
       "      <th>1</th>\n",
       "      <td>5197230000000914</td>\n",
       "      <td>Bs.S8083.62</td>\n",
       "      <td>Bs.S0.00</td>\n",
       "      <td>Bs.S0.00</td>\n",
       "      <td>Bs.S0.00</td>\n",
       "      <td>0.0</td>\n",
       "      <td>0.0</td>\n",
       "    </tr>\n",
       "    <tr>\n",
       "      <th>2</th>\n",
       "      <td>5197230000002167</td>\n",
       "      <td>Bs.S13413.01</td>\n",
       "      <td>Bs.S0.00</td>\n",
       "      <td>Bs.S0.00</td>\n",
       "      <td>Bs.S0.00</td>\n",
       "      <td>0.0</td>\n",
       "      <td>0.0</td>\n",
       "    </tr>\n",
       "    <tr>\n",
       "      <th>3</th>\n",
       "      <td>5197230000003801</td>\n",
       "      <td>Bs.S34513.45</td>\n",
       "      <td>Bs.S0.00</td>\n",
       "      <td>Bs.S0.00</td>\n",
       "      <td>Bs.S0.00</td>\n",
       "      <td>0.0</td>\n",
       "      <td>0.0</td>\n",
       "    </tr>\n",
       "    <tr>\n",
       "      <th>4</th>\n",
       "      <td>5197230000004585</td>\n",
       "      <td>Bs.S6693.44</td>\n",
       "      <td>Bs.S0.00</td>\n",
       "      <td>Bs.S0.00</td>\n",
       "      <td>Bs.S0.00</td>\n",
       "      <td>0.0</td>\n",
       "      <td>0.0</td>\n",
       "    </tr>\n",
       "  </tbody>\n",
       "</table>\n",
       "</div>"
      ],
      "text/plain": [
       "               Acct SaldoRendXcobrar SaldoRendXcobrarVenc  \\\n",
       "0  5197230000000377     Bs.S15731.25             Bs.S0.00   \n",
       "1  5197230000000914      Bs.S8083.62             Bs.S0.00   \n",
       "2  5197230000002167     Bs.S13413.01             Bs.S0.00   \n",
       "3  5197230000003801     Bs.S34513.45             Bs.S0.00   \n",
       "4  5197230000004585      Bs.S6693.44             Bs.S0.00   \n",
       "\n",
       "  SaldoRendCuentaOrden SaldoRendXMora  ProvisionREND  Saldo_Provision_REND  \n",
       "0             Bs.S0.00       Bs.S0.00            0.0                   0.0  \n",
       "1             Bs.S0.00       Bs.S0.00            0.0                   0.0  \n",
       "2             Bs.S0.00       Bs.S0.00            0.0                   0.0  \n",
       "3             Bs.S0.00       Bs.S0.00            0.0                   0.0  \n",
       "4             Bs.S0.00       Bs.S0.00            0.0                   0.0  "
      ]
     },
     "execution_count": 4,
     "metadata": {},
     "output_type": "execute_result"
    }
   ],
   "source": [
    "bbat.head()"
   ]
  },
  {
   "cell_type": "code",
   "execution_count": 5,
   "metadata": {},
   "outputs": [
    {
     "data": {
      "text/html": [
       "<div>\n",
       "<style scoped>\n",
       "    .dataframe tbody tr th:only-of-type {\n",
       "        vertical-align: middle;\n",
       "    }\n",
       "\n",
       "    .dataframe tbody tr th {\n",
       "        vertical-align: top;\n",
       "    }\n",
       "\n",
       "    .dataframe thead th {\n",
       "        text-align: right;\n",
       "    }\n",
       "</style>\n",
       "<table border=\"1\" class=\"dataframe\">\n",
       "  <thead>\n",
       "    <tr style=\"text-align: right;\">\n",
       "      <th></th>\n",
       "      <th>Acct</th>\n",
       "      <th>SaldoRendXcobrar</th>\n",
       "      <th>SaldoRendXcobrarVenc</th>\n",
       "      <th>SaldoRendCuentaOrden</th>\n",
       "      <th>SaldoRendXMora</th>\n",
       "      <th>ProvisionREND</th>\n",
       "      <th>Saldo_Provision_REND</th>\n",
       "    </tr>\n",
       "  </thead>\n",
       "  <tbody>\n",
       "    <tr>\n",
       "      <th>1150</th>\n",
       "      <td>9019714601</td>\n",
       "      <td>Bs.S0.38</td>\n",
       "      <td>Bs.S0.00</td>\n",
       "      <td>Bs.S0.00</td>\n",
       "      <td>Bs.S0.00</td>\n",
       "      <td>1.0</td>\n",
       "      <td>0.00</td>\n",
       "    </tr>\n",
       "    <tr>\n",
       "      <th>1151</th>\n",
       "      <td>9019736301</td>\n",
       "      <td>Bs.S0.13</td>\n",
       "      <td>Bs.S0.00</td>\n",
       "      <td>Bs.S0.00</td>\n",
       "      <td>Bs.S0.00</td>\n",
       "      <td>1.0</td>\n",
       "      <td>0.00</td>\n",
       "    </tr>\n",
       "    <tr>\n",
       "      <th>1152</th>\n",
       "      <td>9019737501</td>\n",
       "      <td>Bs.S9.84</td>\n",
       "      <td>Bs.S0.00</td>\n",
       "      <td>Bs.S0.00</td>\n",
       "      <td>Bs.S0.00</td>\n",
       "      <td>1.0</td>\n",
       "      <td>-0.10</td>\n",
       "    </tr>\n",
       "    <tr>\n",
       "      <th>1153</th>\n",
       "      <td>9019737601</td>\n",
       "      <td>Bs.S6.97</td>\n",
       "      <td>Bs.S0.00</td>\n",
       "      <td>Bs.S0.00</td>\n",
       "      <td>Bs.S0.00</td>\n",
       "      <td>1.0</td>\n",
       "      <td>-0.07</td>\n",
       "    </tr>\n",
       "    <tr>\n",
       "      <th>1154</th>\n",
       "      <td>9019737801</td>\n",
       "      <td>Bs.S6.97</td>\n",
       "      <td>Bs.S0.00</td>\n",
       "      <td>Bs.S0.00</td>\n",
       "      <td>Bs.S0.00</td>\n",
       "      <td>1.0</td>\n",
       "      <td>-0.07</td>\n",
       "    </tr>\n",
       "  </tbody>\n",
       "</table>\n",
       "</div>"
      ],
      "text/plain": [
       "            Acct SaldoRendXcobrar SaldoRendXcobrarVenc SaldoRendCuentaOrden  \\\n",
       "1150  9019714601         Bs.S0.38             Bs.S0.00             Bs.S0.00   \n",
       "1151  9019736301         Bs.S0.13             Bs.S0.00             Bs.S0.00   \n",
       "1152  9019737501         Bs.S9.84             Bs.S0.00             Bs.S0.00   \n",
       "1153  9019737601         Bs.S6.97             Bs.S0.00             Bs.S0.00   \n",
       "1154  9019737801         Bs.S6.97             Bs.S0.00             Bs.S0.00   \n",
       "\n",
       "     SaldoRendXMora  ProvisionREND  Saldo_Provision_REND  \n",
       "1150       Bs.S0.00            1.0                  0.00  \n",
       "1151       Bs.S0.00            1.0                  0.00  \n",
       "1152       Bs.S0.00            1.0                 -0.10  \n",
       "1153       Bs.S0.00            1.0                 -0.07  \n",
       "1154       Bs.S0.00            1.0                 -0.07  "
      ]
     },
     "execution_count": 5,
     "metadata": {},
     "output_type": "execute_result"
    }
   ],
   "source": [
    "bbat.tail()"
   ]
  },
  {
   "cell_type": "code",
   "execution_count": 6,
   "metadata": {},
   "outputs": [
    {
     "name": "stdout",
     "output_type": "stream",
     "text": [
      "<class 'pandas.core.frame.DataFrame'>\n",
      "RangeIndex: 1155 entries, 0 to 1154\n",
      "Data columns (total 7 columns):\n",
      "Acct                    1155 non-null int64\n",
      "SaldoRendXcobrar        1155 non-null object\n",
      "SaldoRendXcobrarVenc    1155 non-null object\n",
      "SaldoRendCuentaOrden    1155 non-null object\n",
      "SaldoRendXMora          1155 non-null object\n",
      "ProvisionREND           1155 non-null float64\n",
      "Saldo_Provision_REND    1155 non-null float64\n",
      "dtypes: float64(2), int64(1), object(4)\n",
      "memory usage: 63.3+ KB\n"
     ]
    }
   ],
   "source": [
    "bbat.info()"
   ]
  },
  {
   "cell_type": "code",
   "execution_count": 7,
   "metadata": {},
   "outputs": [],
   "source": [
    "bbat.SaldoRendXcobrar.replace(to_replace='Bs.S', value='', inplace=True, regex=True)\n",
    "bbat.SaldoRendXcobrarVenc.replace(to_replace='Bs.S', value='', inplace=True, regex=True)\n",
    "bbat.SaldoRendCuentaOrden.replace(to_replace='Bs.S', value='', inplace=True, regex=True)\n",
    "bbat.SaldoRendXMora.replace(to_replace='Bs.S', value='', inplace=True, regex=True)\n",
    "\n",
    "bbat.SaldoRendXcobrar = pd.to_numeric(bbat.SaldoRendXcobrar, errors='coerce')\n",
    "bbat.SaldoRendXcobrarVenc = pd.to_numeric(bbat.SaldoRendXcobrarVenc, errors='coerce')\n",
    "bbat.SaldoRendCuentaOrden = pd.to_numeric(bbat.SaldoRendCuentaOrden, errors='coerce')\n",
    "bbat.SaldoRendXMora = pd.to_numeric(bbat.SaldoRendXMora, errors='coerce')"
   ]
  },
  {
   "cell_type": "code",
   "execution_count": 8,
   "metadata": {},
   "outputs": [
    {
     "name": "stdout",
     "output_type": "stream",
     "text": [
      "<class 'pandas.core.frame.DataFrame'>\n",
      "RangeIndex: 1155 entries, 0 to 1154\n",
      "Data columns (total 7 columns):\n",
      "Acct                    1155 non-null int64\n",
      "SaldoRendXcobrar        1155 non-null float64\n",
      "SaldoRendXcobrarVenc    1155 non-null float64\n",
      "SaldoRendCuentaOrden    1155 non-null float64\n",
      "SaldoRendXMora          1155 non-null float64\n",
      "ProvisionREND           1155 non-null float64\n",
      "Saldo_Provision_REND    1155 non-null float64\n",
      "dtypes: float64(6), int64(1)\n",
      "memory usage: 63.3 KB\n"
     ]
    }
   ],
   "source": [
    "bbat.info()"
   ]
  },
  {
   "cell_type": "code",
   "execution_count": 9,
   "metadata": {},
   "outputs": [],
   "source": [
    "bbat.to_csv('../vol/web/media/insumos/automatic/fixed/BalByAcctTransformada.txt', sep='~', index=False)"
   ]
  },
  {
   "cell_type": "code",
   "execution_count": null,
   "metadata": {},
   "outputs": [],
   "source": []
  }
 ],
 "metadata": {
  "kernelspec": {
   "display_name": "at_lrr",
   "language": "python",
   "name": "at_lrr"
  },
  "language_info": {
   "codemirror_mode": {
    "name": "ipython",
    "version": 3
   },
   "file_extension": ".py",
   "mimetype": "text/x-python",
   "name": "python",
   "nbconvert_exporter": "python",
   "pygments_lexer": "ipython3",
   "version": "3.6.4"
  }
 },
 "nbformat": 4,
 "nbformat_minor": 2
}
