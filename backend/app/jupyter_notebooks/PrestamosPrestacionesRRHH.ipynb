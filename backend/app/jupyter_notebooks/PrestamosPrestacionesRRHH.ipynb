{
 "cells": [
  {
   "cell_type": "code",
   "execution_count": 1,
   "metadata": {},
   "outputs": [],
   "source": [
    "import pandas as pd\n",
    "pd.options.display.max_columns = 500\n",
    "pd.options.display.max_rows = 500"
   ]
  },
  {
   "cell_type": "code",
   "execution_count": 2,
   "metadata": {},
   "outputs": [],
   "source": [
    "names = [\n",
    "    'GEID', \n",
    "    'IdentificacionCliente',\n",
    "    'NombreCliente',\n",
    "    'FechaOtorgamiento',\n",
    "    'MontoOriginal',\n",
    "    'SaldoActual', \n",
    "]\n",
    "\n",
    "parse_dates = [\n",
    "    'FechaOtorgamiento',\n",
    "]"
   ]
  },
  {
   "cell_type": "code",
   "execution_count": 3,
   "metadata": {},
   "outputs": [],
   "source": [
    "pphr = pd.read_excel('../vol/web/media/insumos/manual/Préstamos Sobre Prestaciones - Sudeban_Nov19.xls', \n",
    "                     usecols='B:G',   \n",
    "                     header=3,\n",
    "                     names=names,)"
   ]
  },
  {
   "cell_type": "code",
   "execution_count": 4,
   "metadata": {},
   "outputs": [],
   "source": [
    "pphr.dropna(axis = 0, subset = ['MontoOriginal'], how = \"any\", inplace=True)"
   ]
  },
  {
   "cell_type": "code",
   "execution_count": 5,
   "metadata": {},
   "outputs": [],
   "source": [
    "pphr[parse_dates] = pphr[parse_dates].apply(lambda x:pd.to_datetime(x, format='%Y%m%d', errors='coerce'))"
   ]
  },
  {
   "cell_type": "code",
   "execution_count": 6,
   "metadata": {},
   "outputs": [],
   "source": [
    "pphr.insert(loc=1, column='TipoCliente', value='V')"
   ]
  },
  {
   "cell_type": "code",
   "execution_count": 7,
   "metadata": {},
   "outputs": [
    {
     "data": {
      "text/html": [
       "<div>\n",
       "<style scoped>\n",
       "    .dataframe tbody tr th:only-of-type {\n",
       "        vertical-align: middle;\n",
       "    }\n",
       "\n",
       "    .dataframe tbody tr th {\n",
       "        vertical-align: top;\n",
       "    }\n",
       "\n",
       "    .dataframe thead th {\n",
       "        text-align: right;\n",
       "    }\n",
       "</style>\n",
       "<table border=\"1\" class=\"dataframe\">\n",
       "  <thead>\n",
       "    <tr style=\"text-align: right;\">\n",
       "      <th></th>\n",
       "      <th>GEID</th>\n",
       "      <th>TipoCliente</th>\n",
       "      <th>IdentificacionCliente</th>\n",
       "      <th>NombreCliente</th>\n",
       "      <th>FechaOtorgamiento</th>\n",
       "      <th>MontoOriginal</th>\n",
       "      <th>SaldoActual</th>\n",
       "    </tr>\n",
       "  </thead>\n",
       "  <tbody>\n",
       "    <tr>\n",
       "      <th>0</th>\n",
       "      <td>1000249184</td>\n",
       "      <td>V</td>\n",
       "      <td>11970324</td>\n",
       "      <td>FARIAS UGAS YLAYALY MARIA</td>\n",
       "      <td>2019-11-19</td>\n",
       "      <td>431200.8</td>\n",
       "      <td>431200.8</td>\n",
       "    </tr>\n",
       "  </tbody>\n",
       "</table>\n",
       "</div>"
      ],
      "text/plain": [
       "         GEID TipoCliente IdentificacionCliente              NombreCliente  \\\n",
       "0  1000249184           V              11970324  FARIAS UGAS YLAYALY MARIA   \n",
       "\n",
       "  FechaOtorgamiento  MontoOriginal  SaldoActual  \n",
       "0        2019-11-19       431200.8     431200.8  "
      ]
     },
     "execution_count": 7,
     "metadata": {},
     "output_type": "execute_result"
    }
   ],
   "source": [
    "pphr"
   ]
  },
  {
   "cell_type": "code",
   "execution_count": 9,
   "metadata": {},
   "outputs": [
    {
     "name": "stdout",
     "output_type": "stream",
     "text": [
      "<class 'pandas.core.frame.DataFrame'>\n",
      "Int64Index: 1 entries, 0 to 0\n",
      "Data columns (total 7 columns):\n",
      "GEID                     1 non-null object\n",
      "TipoCliente              1 non-null object\n",
      "IdentificacionCliente    1 non-null object\n",
      "NombreCliente            1 non-null object\n",
      "FechaOtorgamiento        1 non-null datetime64[ns]\n",
      "MontoOriginal            1 non-null float64\n",
      "SaldoActual              1 non-null float64\n",
      "dtypes: datetime64[ns](1), float64(2), object(4)\n",
      "memory usage: 64.0+ bytes\n"
     ]
    }
   ],
   "source": [
    "pphr.info()"
   ]
  },
  {
   "cell_type": "code",
   "execution_count": 8,
   "metadata": {},
   "outputs": [],
   "source": [
    "pphr.to_csv('../vol/web/media/insumos/manual/fixed/PrestamosPrestacionesRRHH.txt', sep='~', date_format='%d/%m/%Y', index=False)"
   ]
  },
  {
   "cell_type": "code",
   "execution_count": null,
   "metadata": {},
   "outputs": [],
   "source": []
  }
 ],
 "metadata": {
  "kernelspec": {
   "display_name": "at_lrr",
   "language": "python",
   "name": "at_lrr"
  },
  "language_info": {
   "codemirror_mode": {
    "name": "ipython",
    "version": 3
   },
   "file_extension": ".py",
   "mimetype": "text/x-python",
   "name": "python",
   "nbconvert_exporter": "python",
   "pygments_lexer": "ipython3",
   "version": "3.6.4"
  }
 },
 "nbformat": 4,
 "nbformat_minor": 2
}
